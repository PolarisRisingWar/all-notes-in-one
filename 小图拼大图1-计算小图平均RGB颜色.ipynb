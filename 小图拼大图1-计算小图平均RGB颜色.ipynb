{
 "cells": [
  {
   "cell_type": "markdown",
   "metadata": {},
   "source": [
    "本notebook用于对小图数据进行预处理，得到其平均颜色并存放于一新文件夹中"
   ]
  },
  {
   "cell_type": "code",
   "execution_count": 1,
   "metadata": {},
   "outputs": [],
   "source": [
    "import pickle\n",
    "\n",
    "import numpy as np\n",
    "import matplotlib.pyplot as plt"
   ]
  },
  {
   "cell_type": "code",
   "execution_count": 2,
   "metadata": {},
   "outputs": [],
   "source": [
    "def unpickle(file):\n",
    "    \"\"\"cifar10数据官方提供的导入代码\"\"\"\n",
    "    with open(file, 'rb') as fo:\n",
    "        dict = pickle.load(fo, encoding='bytes')\n",
    "    return dict"
   ]
  },
  {
   "cell_type": "code",
   "execution_count": 3,
   "metadata": {},
   "outputs": [],
   "source": [
    "#设置参数\n",
    "cifar10_path=r'D:\\PythonCode\\otherCodes\\data\\cifar-10-batches-py'\n",
    "cifar10_file_name=[r'\\data_batch_'+str(i) for i in range(1,6)]\n",
    "cifar10_file_name.append(r'\\test_batch')\n",
    "\n",
    "cifa10_avgcolor_folder=r\"D:\\PythonCode\\otherCodes\\data\\cifar10-avgcolor\""
   ]
  },
  {
   "cell_type": "code",
   "execution_count": 4,
   "metadata": {},
   "outputs": [
    {
     "data": {
      "image/png": "[encoded data removed]",
      "text/plain": [
       "<Figure size 432x288 with 1 Axes>"
      ]
     },
     "metadata": {
      "needs_background": "light"
     },
     "output_type": "display_data"
    }
   ],
   "source": [
    "#展示一张示例图\n",
    "p = 'D:\\PythonCode\\otherCodes\\data\\cifar-10-batches-py\\data_batch_1'\n",
    "d = unpickle(p)\n",
    " \n",
    "e = d[b'data']\n",
    "for i in range(100):\n",
    "    image = e[i]\n",
    "    red_image = image[:1024].reshape(32,32)\n",
    "    green_image = image[1024:2048].reshape(32,32)\n",
    "    blue_image = image[2048:].reshape(32,32)\n",
    "    result_img = np.ones((32, 32, 3), dtype=np.uint8)\n",
    "    result_img[:,:,0] = red_image\n",
    "    result_img[:,:,1] = green_image\n",
    "    result_img[:,:,2] = blue_image\n",
    "    plt.imshow(result_img)\n",
    "    break"
   ]
  },
  {
   "cell_type": "code",
   "execution_count": 27,
   "metadata": {},
   "outputs": [
    {
     "name": "stdout",
     "output_type": "stream",
     "text": [
      "Wall time: 2.04 s\n"
     ]
    }
   ],
   "source": [
    "%%time\n",
    "#遍历所有图片，计算其平均RGB颜色，将其分别存储至对应文件中\n",
    "for file_name in cifar10_file_name:  #遍历所有batch\n",
    "    cifar10_batch=cifar10_path+file_name  #该batch对应的路径\n",
    "    cifar10_batch_unpickle=unpickle(cifar10_batch)\n",
    "    file_r=open(cifa10_avgcolor_folder+\"\\\\\"+file_name+'_r',mode='w')\n",
    "    file_g=open(cifa10_avgcolor_folder+\"\\\\\"+file_name+'_g',mode='w')\n",
    "    file_b=open(cifa10_avgcolor_folder+\"\\\\\"+file_name+'_b',mode='w')\n",
    "    for picture in cifar10_batch_unpickle[b'data']:\n",
    "        file_r.write(str(np.mean(picture[:1024]))+'\\n')\n",
    "        file_g.write(str(np.mean(picture[1024:2048]))+'\\n')\n",
    "        file_b.write(str(np.mean(picture[2048:]))+'\\n')\n",
    "    file_r.close()\n",
    "    file_g.close()\n",
    "    file_b.close()"
   ]
  },
  {
   "cell_type": "code",
   "execution_count": null,
   "metadata": {},
   "outputs": [],
   "source": []
  }
 ],
 "metadata": {
  "interpreter": {
   "hash": "7779bbc2c1aef615d27866e0f56ee45ae126f5562611ad823fbbdf236dddc76d"
  },
  "kernelspec": {
   "display_name": "Python 3",
   "language": "python",
   "name": "python3"
  },
  "language_info": {
   "codemirror_mode": {
    "name": "ipython",
    "version": 3
   },
   "file_extension": ".py",
   "mimetype": "text/x-python",
   "name": "python",
   "nbconvert_exporter": "python",
   "pygments_lexer": "ipython3",
   "version": "3.7.6"
  }
 },
 "nbformat": 4,
 "nbformat_minor": 2
}
